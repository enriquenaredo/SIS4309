{
  "cells": [
    {
      "cell_type": "markdown",
      "source": [
        "#SIS4309 - Aprendizaje de Máquina\n",
        "## Verano 2024\n",
        "\n",
        "<div>\n",
        "<img src=\"https://drive.google.com/uc?export=view&id=1QV_UJOxP4AxqMtI5OdNA_CZNi3QOQUAD\" width=\"250\"/>\n",
        "</div>\n",
        "\n",
        "\n",
        "### SIS4309_Octave_1.0\n",
        "\n",
        "**Enrique Naredo García**\n",
        "\n",
        "<font size = 2>\n",
        "©️ Todos los derechos reservados. All rights reserved.\n",
        "\n",
        "*Nota: El presente documento es una herramienta diseñada única y exclusivamente para los estudiantes de la asignatura arriba mencionada. Se recuerda no compartir esta información fuera de los integrantes registrados en este curso. La reproducción total o parcial de este documento requiere autorización por escrito del titular del copyright.*\n",
        "</font>"
      ],
      "metadata": {
        "id": "H0NFwKh7reT0"
      }
    },
    {
      "cell_type": "markdown",
      "source": [
        "## [Octave](https://octave.org/)\n",
        "\n",
        "El lenguaje de programación Octave, es casi idéntico al Matlab básico, la diferencia distintiva es que Octave es de código abierto y gratuito.\n",
        "\n",
        "Matlab (MATLAB+Simulink+Toolboxes) por su parte es un software  muy maduro y está bien documentado, es caro pero vale la pena.\n",
        "\n",
        "Octave puede ser el punto de partida hasta que necesites más de lo que puede proporcionar o te topes con uno de los problemas que aún tiene, MATLAB es más adecuado para profesionales exigentes y estudiantes académicos.\n",
        "\n",
        "Octave fue originalmente pensado para ser un software complementario para un libro de texto de nivel universitario sobre diseño de reactores químicos escrito por James B. Rawlings de la Universidad de Wisconsin-Madison y John G. Ekerdt de la Universidad de Texas.\n",
        "\n",
        "Claramente, Octave es ahora mucho más que otro paquete de \"material didáctico\" con una utilidad limitada más allá del aula. Aunque los objetivos iniciales eran algo vagos, los autores sabían que querían crear algo que permitiera a los estudiantes resolver problemas realistas y que pudieran usar para muchas cosas además de los problemas de diseño de reactores químicos. Descubrieron que la mayoría de los estudiantes aprenden los conceptos básicos de Octave rápidamente y lo usan con confianza en tan solo unas pocas horas.\n",
        "\n",
        "Aunque originalmente estaba pensado para usarse para enseñar diseño de reactores, se ha utilizado en varios otros cursos de pregrado y posgrado en el Departamento de Ingeniería Química de la Universidad de Texas, y el departamento de matemáticas de la Universidad de Texas también lo ha estado usando para enseñar ecuaciones diferenciales y álgebra lineal. Más recientemente, Octave se ha utilizado como la herramienta computacional principal para enseñar la clase de aprendizaje automático en línea de Stanford (http://ml-class.org) impartida por Andrew Ng. Decenas de miles de estudiantes participaron en el curso.\n",
        "\n",
        "Casi todo el mundo piensa que el nombre Octave tiene algo que ver con la música, pero en realidad es el nombre de uno de los antiguos profesores de John W. Eaton que escribió un famoso libro de texto sobre ingeniería de reacciones químicas y que también era conocido por su capacidad para hacer cálculos rápidos."
      ],
      "metadata": {
        "id": "ZtiNjrytreIg"
      }
    },
    {
      "cell_type": "markdown",
      "source": [
        "## Octave en Google Colab"
      ],
      "metadata": {
        "id": "y5lOQCtsuyo2"
      }
    },
    {
      "cell_type": "code",
      "source": [
        "# importa librerías\n",
        "from IPython import display"
      ],
      "metadata": {
        "id": "jS-4l9WtWK2D"
      },
      "execution_count": null,
      "outputs": []
    },
    {
      "cell_type": "code",
      "source": [
        "# instala Octave\n",
        "\n",
        "!sudo apt-get update\n",
        "!sudo apt-get install octave\n",
        "\n",
        "display.clear_output()"
      ],
      "metadata": {
        "id": "DiGaS8OiWUGc"
      },
      "execution_count": null,
      "outputs": []
    },
    {
      "cell_type": "code",
      "source": [
        "# verifica la versión\n",
        "!octave -version"
      ],
      "metadata": {
        "colab": {
          "base_uri": "https://localhost:8080/"
        },
        "id": "mTx7MPMNWUDY",
        "outputId": "483f6bf7-fd58-46f5-ca1e-e51e06e3036c"
      },
      "execution_count": null,
      "outputs": [
        {
          "output_type": "stream",
          "name": "stdout",
          "text": [
            "octave: X11 DISPLAY environment variable not set\n",
            "octave: disabling GUI features\n",
            "GNU Octave, version 6.4.0\n",
            "Copyright (C) 2021 The Octave Project Developers.\n",
            "This is free software; see the source code for copying conditions.\n",
            "There is ABSOLUTELY NO WARRANTY; not even for MERCHANTABILITY or\n",
            "FITNESS FOR A PARTICULAR PURPOSE.\n",
            "\n",
            "Octave was configured for \"x86_64-pc-linux-gnu\".\n",
            "\n",
            "Additional information about Octave is available at https://www.octave.org.\n",
            "\n",
            "Please contribute if you find this software useful.\n",
            "For more information, visit https://www.octave.org/get-involved.html\n",
            "\n",
            "Read https://www.octave.org/bugs.html to learn how to submit bug reports.\n"
          ]
        }
      ]
    },
    {
      "cell_type": "markdown",
      "source": [
        "## Operaciones aritméticas"
      ],
      "metadata": {
        "id": "gNmejN2qeKKf"
      }
    },
    {
      "cell_type": "code",
      "execution_count": null,
      "metadata": {
        "id": "pON180Fht0HN",
        "colab": {
          "base_uri": "https://localhost:8080/"
        },
        "outputId": "0aa97108-e54c-4bfa-806d-504b170262ed"
      },
      "outputs": [
        {
          "output_type": "stream",
          "name": "stdout",
          "text": [
            "Writing add.m\n"
          ]
        }
      ],
      "source": [
        "# crea una función para sumar dos variables\n",
        "%%writefile add.m\n",
        "\n",
        "x = 1\n",
        "y = 2\n",
        "\n",
        "display(x+y)"
      ]
    },
    {
      "cell_type": "code",
      "source": [
        "# se utiliza !octave para invocar métodos de Octave\n",
        "!octave add.m"
      ],
      "metadata": {
        "colab": {
          "base_uri": "https://localhost:8080/"
        },
        "id": "n7-eW9XSa8OV",
        "outputId": "845a0232-af69-438e-e63d-fb43989a2ed9"
      },
      "execution_count": 11,
      "outputs": [
        {
          "output_type": "stream",
          "name": "stdout",
          "text": [
            "octave: X11 DISPLAY environment variable not set\n",
            "octave: disabling GUI features\n",
            "x = 1\n",
            "y = 2\n",
            "3\n"
          ]
        }
      ]
    },
    {
      "cell_type": "code",
      "source": [
        "# crea una función para multiplicar tres variables\n",
        "%%writefile mult3.m\n",
        "\n",
        "a = 5;\n",
        "b = 2;\n",
        "c = 3;\n",
        "\n",
        "display(a*b*c)"
      ],
      "metadata": {
        "colab": {
          "base_uri": "https://localhost:8080/"
        },
        "id": "T7v3At8k3FFu",
        "outputId": "ac4f3f5a-4e59-4a06-9577-36451682d38d"
      },
      "execution_count": 15,
      "outputs": [
        {
          "output_type": "stream",
          "name": "stdout",
          "text": [
            "Overwriting mult3.m\n"
          ]
        }
      ]
    },
    {
      "cell_type": "code",
      "source": [
        "# llama la función mult3\n",
        "!octave mult3.m"
      ],
      "metadata": {
        "colab": {
          "base_uri": "https://localhost:8080/"
        },
        "id": "axULSaVa3ZvM",
        "outputId": "7f526151-79fa-4e26-ad02-fa66915b4f0e"
      },
      "execution_count": 16,
      "outputs": [
        {
          "output_type": "stream",
          "name": "stdout",
          "text": [
            "octave: X11 DISPLAY environment variable not set\n",
            "octave: disabling GUI features\n",
            "30\n"
          ]
        }
      ]
    },
    {
      "cell_type": "markdown",
      "source": [
        "## Algebra lineal"
      ],
      "metadata": {
        "id": "ayuY0fnoeUjp"
      }
    },
    {
      "cell_type": "code",
      "source": [
        "# escribe una función de algebra lineal\n",
        "%%writefile alg_lineal.m\n",
        "\n",
        "A = [8, 6, 4];\n",
        "B = [8; 6; 4];\n",
        "\n",
        "display(dot(A,B));"
      ],
      "metadata": {
        "colab": {
          "base_uri": "https://localhost:8080/"
        },
        "id": "wvHoaULsbj_d",
        "outputId": "711d2bf8-5830-40ee-87d4-248bc869d04a"
      },
      "execution_count": null,
      "outputs": [
        {
          "output_type": "stream",
          "name": "stdout",
          "text": [
            "Writing alg_lineal.m\n"
          ]
        }
      ]
    },
    {
      "cell_type": "code",
      "source": [
        "# llama la recién creada función\n",
        "!octave alg_lineal.m"
      ],
      "metadata": {
        "colab": {
          "base_uri": "https://localhost:8080/"
        },
        "id": "HDvcVV3CcUN4",
        "outputId": "d78d17a7-f750-4bc5-cbad-61939daf9cde"
      },
      "execution_count": null,
      "outputs": [
        {
          "output_type": "stream",
          "name": "stdout",
          "text": [
            "octave: X11 DISPLAY environment variable not set\n",
            "octave: disabling GUI features\n",
            "116\n"
          ]
        }
      ]
    },
    {
      "cell_type": "markdown",
      "source": [
        "## Gráfica"
      ],
      "metadata": {
        "id": "P7s_4-uTekVp"
      }
    },
    {
      "cell_type": "code",
      "source": [
        "%%writefile imprime_seno.m\n",
        "\n",
        "# crea un espacio vectorial distribuido uniformemente\n",
        "x = -10:0.1:10;\n",
        "\n",
        "# y tambien es un vector\n",
        "y = sin(x);\n",
        "\n",
        "plot(x,y)\n",
        "title(\"Grafica simple 2-D\")\n",
        "\n",
        "xlabel(\"x\");\n",
        "ylabel(\"seno(x)\");\n",
        "\n",
        "# pdf\n",
        "print -dpng imprime_seno.png;"
      ],
      "metadata": {
        "colab": {
          "base_uri": "https://localhost:8080/"
        },
        "id": "0MMFiLwaej_Y",
        "outputId": "34fb4590-5669-4b25-c0d7-cf8aa7a2b064"
      },
      "execution_count": null,
      "outputs": [
        {
          "output_type": "stream",
          "name": "stdout",
          "text": [
            "Writing imprime_seno.m\n"
          ]
        }
      ]
    },
    {
      "cell_type": "code",
      "source": [
        "!octave imprime_seno.m"
      ],
      "metadata": {
        "id": "SK3JwAUNgiDw",
        "outputId": "f9ac6cc0-7568-412d-ff2b-74e1994fae92",
        "colab": {
          "base_uri": "https://localhost:8080/"
        }
      },
      "execution_count": null,
      "outputs": [
        {
          "output_type": "stream",
          "name": "stdout",
          "text": [
            "octave: X11 DISPLAY environment variable not set\n",
            "octave: disabling GUI features\n",
            "warning: using the gnuplot graphics toolkit is discouraged\n",
            "\n",
            "The gnuplot graphics toolkit is not actively maintained and has a number\n",
            "of limitations that are ulikely to be fixed.  Communication with gnuplot\n",
            "uses a one-directional pipe and limited information is passed back to the\n",
            "Octave interpreter so most changes made interactively in the plot window\n",
            "will not be reflected in the graphics properties managed by Octave.  For\n",
            "example, if the plot window is closed with a mouse click, Octave will not\n",
            "be notified and will not update it's internal list of open figure windows.\n",
            "We recommend using the qt toolkit instead.\n",
            "                                                                               \n",
            "                                                                               \n",
            "          |----------------------Grafica simple 2-D-------------------------|  \n",
            "       1 +|+              **              +   ***          +       ***   +-+|  \n",
            "         +|              *+ *             +  **  *         +      ** **    +|  \n",
            "          |             *   **               *   **              **   *     |  \n",
            "          |             *    *              *     *              *     *    |  \n",
            "     0.5 *|+           *      *             *      *            **     * +-+|  \n",
            "         *|            *      *            *       *            *       *   |  \n",
            "          |           *       **           *       **           *       *   |  \n",
            "          |           *        *           *        *          *        **  |  \n",
            "       0 +|*          *        *          *         *          *         *-+|  \n",
            "          |*         *          *         *          *        *          *  |  \n",
            "          |**        *          *        *           *        *           * |  \n",
            "          | *       *           **       *           **       *           * |  \n",
            "          | *       *            *       *            *      *            **|  \n",
            "    -0.5 +|+ *     **            *      *             *      *           +-*|  \n",
            "          |  *     *              *     *              *    *               |  \n",
            "          |   *   **              **   *               **   *               |  \n",
            "         +|-----------------------------------------------------------------|  \n",
            "      -1 +-+   ***        +         ***   +              ***             +-+   \n",
            "        -10              -5               0                5              10   \n",
            "                                          x                                    \n",
            "                                                                               \n"
          ]
        }
      ]
    }
  ],
  "metadata": {
    "colab": {
      "provenance": []
    },
    "kernelspec": {
      "display_name": "Python 3",
      "name": "python3"
    },
    "language_info": {
      "name": "python"
    }
  },
  "nbformat": 4,
  "nbformat_minor": 0
}
